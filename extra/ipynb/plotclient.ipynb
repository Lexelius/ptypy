{
 "cells": [
  {
   "cell_type": "markdown",
   "metadata": {},
   "source": [
    "# Plotclient for ptypy (online and offline)"
   ]
  },
  {
   "cell_type": "code",
   "execution_count": null,
   "metadata": {
    "collapsed": false,
    "extensions": {
     "jupyter_dashboards": {
      "version": 1,
      "views": {
       "grid_default": {
        "hidden": true
       },
       "report_default": {}
      }
     }
    }
   },
   "outputs": [],
   "source": [
    "%matplotlib notebook\n",
    "import matplotlib.pyplot as plt\n",
    "import numpy as np\n",
    "import time\n",
    "from ptypy.utils import PlotClient, validator, ortho\n",
    "from ptypy.utils.plot_utils import PtyAxis\n",
    "from ptypy.io import h5read"
   ]
  },
  {
   "cell_type": "markdown",
   "metadata": {},
   "source": [
    "## Start the online viewer"
   ]
  },
  {
   "cell_type": "code",
   "execution_count": null,
   "metadata": {
    "collapsed": false,
    "extensions": {
     "jupyter_dashboards": {
      "version": 1,
      "views": {
       "grid_default": {
        "hidden": true
       },
       "report_default": {}
      }
     }
    }
   },
   "outputs": [],
   "source": [
    "pc   = PlotClient(validator.make_sub_default('.io.interaction'),in_thread=False)\n",
    "data = lambda: pc.get_data()\n",
    "pc.start()"
   ]
  },
  {
   "cell_type": "markdown",
   "metadata": {},
   "source": [
    "## Stop the online viewer"
   ]
  },
  {
   "cell_type": "code",
   "execution_count": null,
   "metadata": {
    "collapsed": false
   },
   "outputs": [],
   "source": [
    "pc.stop()"
   ]
  },
  {
   "cell_type": "markdown",
   "metadata": {},
   "source": [
    "## Load data from file"
   ]
  },
  {
   "cell_type": "code",
   "execution_count": null,
   "metadata": {
    "collapsed": false
   },
   "outputs": [],
   "source": [
    "base_path = '...'\n",
    "filename  = base_path + '.../filename.ptyr'\n",
    "f = h5read(filename)\n",
    "data = lambda: (f['content']['probe'], f['content']['obj'], f['content']['runtime'])"
   ]
  },
  {
   "cell_type": "markdown",
   "metadata": {},
   "source": [
    "## Plotting object"
   ]
  },
  {
   "cell_type": "code",
   "execution_count": null,
   "metadata": {
    "collapsed": false
   },
   "outputs": [],
   "source": [
    "ptya = PtyAxis(channel='a',cmap='viridis', vmin=None, vmax=None)\n",
    "ptya.add_colorbar()\n",
    "ptya.ax.set_title('Iteration %d' %data()[2].iter_info[-1]['iteration'], size=12) \n",
    "ptya.set_data(data()[1]['S00G00']['data'][0])"
   ]
  },
  {
   "cell_type": "markdown",
   "metadata": {},
   "source": [
    "## Plotting probe (after normalization)"
   ]
  },
  {
   "cell_type": "code",
   "execution_count": null,
   "metadata": {
    "collapsed": false
   },
   "outputs": [],
   "source": [
    "ptya = PtyAxis(channel='c',cmap='magma', vmax=None)\n",
    "ptya.add_colorbar()\n",
    "ptya.ax.set_title('Iteration %d' %data()[2].iter_info[-1]['iteration'], size=12)\n",
    "ptya.set_data(ortho(data()[0]['S00G00']['data'][:])[1][0])"
   ]
  },
  {
   "cell_type": "markdown",
   "metadata": {},
   "source": [
    "## Plotting errors"
   ]
  },
  {
   "cell_type": "code",
   "execution_count": null,
   "metadata": {
    "collapsed": false
   },
   "outputs": [],
   "source": [
    "fig = plt.figure()\n",
    "ax  = fig.add_subplot(111)\n",
    "error = np.array([info['error'] for info in data()[2].iter_info])\n",
    "err_fmag = error[1:, 0]\n",
    "err_phot = error[1:, 1]\n",
    "err_exit = error[1:, 2]\n",
    "fmag = err_fmag/np.max(err_fmag)\n",
    "ax.plot(fmag, label='err_fmag %2.2f%% of %.2e' % (fmag[-1]*100, np.max(err_fmag)))\n",
    "phot = err_phot/np.max(err_phot)\n",
    "ax.plot(phot, label='err_phot %2.2f%% of %.2e' % (phot[-1]*100, np.max(err_phot)))\n",
    "ex = err_exit/np.max(err_exit)\n",
    "ax.plot(ex, label='err_exit %2.2f%% of %.2e' % (ex[-1]*100, np.max(err_exit)))\n",
    "ax.legend(loc=1, fontsize=10)\n",
    "plt.setp(ax.get_xticklabels(), fontsize=10)\n",
    "plt.setp(ax.get_yticklabels(), fontsize=10)\n",
    "plt.show()"
   ]
  }
 ],
 "metadata": {
  "extensions": {
   "jupyter_dashboards": {
    "activeView": "grid_default",
    "version": 1,
    "views": {
     "grid_default": {
      "cellMargin": 10,
      "defaultCellHeight": 20,
      "maxColumns": 12,
      "name": "grid",
      "type": "grid"
     },
     "report_default": {
      "name": "report",
      "type": "report"
     }
    }
   }
  },
  "kernelspec": {
   "display_name": "Python 2",
   "language": "python",
   "name": "python2"
  },
  "language_info": {
   "codemirror_mode": {
    "name": "ipython",
    "version": 2
   },
   "file_extension": ".py",
   "mimetype": "text/x-python",
   "name": "python",
   "nbconvert_exporter": "python",
   "pygments_lexer": "ipython2",
   "version": "2.7.10"
  }
 },
 "nbformat": 4,
 "nbformat_minor": 1
}
